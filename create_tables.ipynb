{
 "cells": [
  {
   "cell_type": "markdown",
   "metadata": {},
   "source": [
    "# Create tables and load business register\n",
    "\n",
    "Load libraries"
   ]
  },
  {
   "cell_type": "code",
   "execution_count": 1,
   "metadata": {
    "collapsed": true
   },
   "outputs": [],
   "source": [
    "import pandas as pd\n",
    "import sqlalchemy"
   ]
  },
  {
   "cell_type": "markdown",
   "metadata": {},
   "source": [
    "Download business register"
   ]
  },
  {
   "cell_type": "code",
   "execution_count": 13,
   "metadata": {
    "collapsed": false
   },
   "outputs": [],
   "source": [
    "er = pd.read_csv('http://hotell.difi.no/download/brreg/enhetsregisteret?download', sep=\";\",\n",
    "                dtype={'orgnr': str, 'forradrpostnr': str, 'forradrkommnr': str, \n",
    "                       'ppostnr': str, 'nkode1': str, 'nkode2': str, 'nkode3': str,\n",
    "                       'sektorkode': str, 'regnskap': float, 'hovedenhet': str, 'ansatte_antall': float})"
   ]
  },
  {
   "cell_type": "code",
   "execution_count": 22,
   "metadata": {
    "collapsed": false
   },
   "outputs": [],
   "source": [
    "er = pd.read_csv('enhetsregisteret?download', sep=\";\",\n",
    "                dtype={'orgnr': str, 'forradrpostnr': str, 'forradrkommnr': str, \n",
    "                       'ppostnr': str, 'nkode1': str, 'nkode2': str, 'nkode3': str,\n",
    "                       'sektorkode': str, 'regnskap': float, 'hovedenhet': str, 'ansatte_antall': float},\n",
    "                parse_dates=['ansatte_dato', 'stiftelsesdato'])\n"
   ]
  },
  {
   "cell_type": "markdown",
   "metadata": {},
   "source": [
    "Keep only businesses with employees"
   ]
  },
  {
   "cell_type": "code",
   "execution_count": 29,
   "metadata": {
    "collapsed": false
   },
   "outputs": [
    {
     "name": "stdout",
     "output_type": "stream",
     "text": [
      "180187\n"
     ]
    }
   ],
   "source": [
    "er_emp = er[(er['ansatte_antall'].isnull() == False)]\n",
    "print(len(er_emp))"
   ]
  },
  {
   "cell_type": "markdown",
   "metadata": {},
   "source": [
    "Load NACE code list and slice/dice result before merge with business register"
   ]
  },
  {
   "cell_type": "code",
   "execution_count": 35,
   "metadata": {
    "collapsed": false
   },
   "outputs": [
    {
     "name": "stdout",
     "output_type": "stream",
     "text": [
      "  % Total    % Received % Xferd  Average Speed   Time    Time     Time  Current\n",
      "                                 Dload  Upload   Total   Spent    Left  Speed\n",
      "100  171k    0  171k    0     0   474k      0 --:--:-- --:--:-- --:--:--  475k\n"
     ]
    }
   ],
   "source": [
    "! curl 'http://data.ssb.no/api/klass/v1/classifications/6/codesAt?date=2015-01-01&language=en' -H 'Accept: text/csv; charset=UTF-8' > nace.csv"
   ]
  },
  {
   "cell_type": "code",
   "execution_count": 36,
   "metadata": {
    "collapsed": true
   },
   "outputs": [],
   "source": [
    "import pandas as pd\n",
    "nace = pd.read_csv('nace.csv', dtype=str)\n",
    "toplevel = nace[(nace['level']=='1')][['code', 'shortName']]\n",
    "codelevel = nace[(nace['level']=='2')][['code', 'parentCode']]\n",
    "toplevel.rename(columns={'code': 'parentCode'}, inplace=True)\n",
    "codes = codelevel.merge(toplevel)\n",
    "codes.rename(columns={'code': 'nace_code'}, inplace=True)"
   ]
  },
  {
   "cell_type": "code",
   "execution_count": 32,
   "metadata": {
    "collapsed": false
   },
   "outputs": [
    {
     "name": "stderr",
     "output_type": "stream",
     "text": [
      "/anaconda/envs/py35/lib/python3.5/site-packages/ipykernel_launcher.py:1: SettingWithCopyWarning: \n",
      "A value is trying to be set on a copy of a slice from a DataFrame.\n",
      "Try using .loc[row_indexer,col_indexer] = value instead\n",
      "\n",
      "See the caveats in the documentation: http://pandas.pydata.org/pandas-docs/stable/indexing.html#indexing-view-versus-copy\n",
      "  \"\"\"Entry point for launching an IPython kernel.\n"
     ]
    }
   ],
   "source": [
    "er_emp['nace_code'] = er_emp['nkode1'].str[0:2]"
   ]
  },
  {
   "cell_type": "code",
   "execution_count": 37,
   "metadata": {
    "collapsed": false
   },
   "outputs": [],
   "source": [
    "er_nace = er_emp.merge(codes)"
   ]
  },
  {
   "cell_type": "markdown",
   "metadata": {},
   "source": [
    "Connect to MySQL and create table vacancies."
   ]
  },
  {
   "cell_type": "code",
   "execution_count": 43,
   "metadata": {
    "collapsed": true
   },
   "outputs": [],
   "source": [
    "%run ../connect_mysql.py"
   ]
  },
  {
   "cell_type": "code",
   "execution_count": 10,
   "metadata": {
    "collapsed": false
   },
   "outputs": [],
   "source": [
    "r = engine.execute(\"\"\"CREATE TABLE IF NOT EXISTS `vacancies` (\n",
    "  `id` int(11) unsigned NOT NULL AUTO_INCREMENT,\n",
    "  `num_vacancies` int(11) DEFAULT NULL,\n",
    "  `valid_from` date DEFAULT NULL,\n",
    "  `valid_to` date DEFAULT NULL,\n",
    "  `isco08` varchar(4) DEFAULT NULL,\n",
    "  `orgnr` varchar(9) DEFAULT NULL,\n",
    "  `text` varchar(8000) DEFAULT NULL,\n",
    "  `title` varchar(500) DEFAULT NULL,\n",
    "  PRIMARY KEY (`id`),\n",
    "  KEY `orgnr_ix` (`orgnr`),\n",
    "  KEY `isco08_ix` (`isco08`)\n",
    ") ENGINE=InnoDB AUTO_INCREMENT=1188 DEFAULT CHARSET=utf8mb4;\"\"\")"
   ]
  },
  {
   "cell_type": "code",
   "execution_count": 41,
   "metadata": {
    "collapsed": false
   },
   "outputs": [],
   "source": [
    "try:\n",
    "    er_nace.to_sql('er', engine, if_exists='replace')\n",
    "except:\n",
    "    print(\"failed\")"
   ]
  },
  {
   "cell_type": "code",
   "execution_count": 46,
   "metadata": {
    "collapsed": false
   },
   "outputs": [],
   "source": [
    "%run ../connect_mysql.py\n",
    "r = engine.execute(\"\"\"CREATE INDEX orgnr_ix ON er (orgnr)\"\"\")"
   ]
  },
  {
   "cell_type": "code",
   "execution_count": null,
   "metadata": {
    "collapsed": true
   },
   "outputs": [],
   "source": []
  }
 ],
 "metadata": {
  "kernelspec": {
   "display_name": "Python 3",
   "language": "python",
   "name": "python3"
  },
  "language_info": {
   "codemirror_mode": {
    "name": "ipython",
    "version": 3
   },
   "file_extension": ".py",
   "mimetype": "text/x-python",
   "name": "python",
   "nbconvert_exporter": "python",
   "pygments_lexer": "ipython3",
   "version": "3.5.2"
  }
 },
 "nbformat": 4,
 "nbformat_minor": 2
}
